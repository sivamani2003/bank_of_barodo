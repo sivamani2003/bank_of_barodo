{
 "cells": [
  {
   "cell_type": "code",
   "execution_count": 1,
   "id": "8d178d98",
   "metadata": {},
   "outputs": [
    {
     "name": "stderr",
     "output_type": "stream",
     "text": [
      "C:\\Users\\pavan\\AppData\\Local\\Programs\\Python\\Python310\\lib\\site-packages\\urllib3\\connectionpool.py:1045: InsecureRequestWarning: Unverified HTTPS request is being made to host 'localhost'. Adding certificate verification is strongly advised. See: https://urllib3.readthedocs.io/en/1.26.x/advanced-usage.html#ssl-warnings\n",
      "  warnings.warn(\n",
      "C:\\Users\\pavan\\AppData\\Local\\Programs\\Python\\Python310\\lib\\site-packages\\urllib3\\connectionpool.py:1045: InsecureRequestWarning: Unverified HTTPS request is being made to host '127.0.0.1'. Adding certificate verification is strongly advised. See: https://urllib3.readthedocs.io/en/1.26.x/advanced-usage.html#ssl-warnings\n",
      "  warnings.warn(\n"
     ]
    }
   ],
   "source": [
    "from azure.cosmos import CosmosClient, exceptions\n",
    "\n",
    "endpoint = \"https://localhost:8081\"  \n",
    "# key = \"C2y6yDjf5/R+ob0N8A7Cgv30VRDJIWEHLM+4QDU5DE2nQ9nDuVTqobD4b8mGGyPMbIZnqyMsEcaGQy67XIw/Jw==\"  \n",
    "key = \"C2y6yDjf5/R+ob0N8A7Cgv30VRDJIWEHLM+4QDU5DE2nQ9nDuVTqobD4b8mGGyPMbIZnqyMsEcaGQy67XIw/Jw==\"\n",
    "client = CosmosClient(endpoint, key)\n",
    "\n",
    "database_name = 'FA_Azure'\n",
    "container_name = 'Team'\n",
    "database = client.get_database_client(database_name)\n",
    "container = database.get_container_client(container_name)\n",
    "\n",
    "query = \"SELECT * FROM c\"\n",
    "items = list(container.query_items(\n",
    "    query=query,\n",
    "    enable_cross_partition_query=True\n",
    "))\n",
    "\n",
    "# for item in items:\n",
    "#     print(item)\n",
    "   \n"
   ]
  },
  {
   "cell_type": "code",
   "execution_count": 3,
   "id": "7084184a",
   "metadata": {},
   "outputs": [
    {
     "name": "stderr",
     "output_type": "stream",
     "text": [
      "C:\\Users\\pavan\\AppData\\Local\\Programs\\Python\\Python310\\lib\\site-packages\\urllib3\\connectionpool.py:1045: InsecureRequestWarning: Unverified HTTPS request is being made to host '127.0.0.1'. Adding certificate verification is strongly advised. See: https://urllib3.readthedocs.io/en/1.26.x/advanced-usage.html#ssl-warnings\n",
      "  warnings.warn(\n",
      "C:\\Users\\pavan\\AppData\\Local\\Programs\\Python\\Python310\\lib\\site-packages\\urllib3\\connectionpool.py:1045: InsecureRequestWarning: Unverified HTTPS request is being made to host '127.0.0.1'. Adding certificate verification is strongly advised. See: https://urllib3.readthedocs.io/en/1.26.x/advanced-usage.html#ssl-warnings\n",
      "  warnings.warn(\n"
     ]
    },
    {
     "data": {
      "text/plain": [
       "{'id': '1',\n",
       " 'Name': 'Pavan Sastry NVSS',\n",
       " 'Role': 'Chief Executive Officer',\n",
       " 'Description': \"The CEO's role in raising a company's corporate IQ is to establish an atmosphere that promotes knowledge sharing and collaboration.\",\n",
       " 'url': {'twitter': 'https://x.com/pavan_xen',\n",
       "  'github': 'https://github.com/PavanNVSS',\n",
       "  'instagram': 'https://www.instagram.com/xeno_blank/'},\n",
       " '_rid': '6upUAKzKB3EBAAAAAAAAAA==',\n",
       " '_self': 'dbs/6upUAA==/colls/6upUAKzKB3E=/docs/6upUAKzKB3EBAAAAAAAAAA==/',\n",
       " '_etag': '\"00000000-0000-0000-e409-ab2d896e01da\"',\n",
       " '_attachments': 'attachments/',\n",
       " '_ts': 1722513313}"
      ]
     },
     "execution_count": 3,
     "metadata": {},
     "output_type": "execute_result"
    }
   ],
   "source": [
    "true = True\n",
    "item1 = {\n",
    "    \"id\": \"1\",\n",
    "    \"Name\": \"Pavan Sastry NVSS\",\n",
    "    \"Role\": \"Chief Executive Officer\",\n",
    "    \"Description\": \"The CEO's role in raising a company's corporate IQ is to establish an atmosphere that promotes knowledge sharing and collaboration.\",\n",
    "    \"url\": {\n",
    "        \"twitter\": \"https://x.com/pavan_xen\",\n",
    "        \"github\": \"https://github.com/PavanNVSS\",\n",
    "        \"instagram\": \"https://www.instagram.com/xeno_blank/\"\n",
    "    }\n",
    "}\n",
    "container.upsert_item(body=item1)"
   ]
  },
  {
   "cell_type": "code",
   "execution_count": 5,
   "id": "ddb5d2ad",
   "metadata": {},
   "outputs": [
    {
     "name": "stderr",
     "output_type": "stream",
     "text": [
      "C:\\Users\\pavan\\AppData\\Local\\Programs\\Python\\Python310\\lib\\site-packages\\urllib3\\connectionpool.py:1045: InsecureRequestWarning: Unverified HTTPS request is being made to host '127.0.0.1'. Adding certificate verification is strongly advised. See: https://urllib3.readthedocs.io/en/1.26.x/advanced-usage.html#ssl-warnings\n",
      "  warnings.warn(\n"
     ]
    },
    {
     "data": {
      "text/plain": [
       "{'id': '2',\n",
       " 'Name': 'Siva Mani K',\n",
       " 'Role': 'Chief Technical Officer',\n",
       " 'Description': 'Leads technology strategy, innovation, and development, ensuring robust and scalable tech solutions for business growth.',\n",
       " 'url': {'twitter': 'https://x.com/sivamani1307',\n",
       "  'github': 'https://github.com/sivamani2003',\n",
       "  'instagram': 'https://www.instagram.com/i_am__sivamani/'},\n",
       " '_rid': '6upUAKzKB3ECAAAAAAAAAA==',\n",
       " '_self': 'dbs/6upUAA==/colls/6upUAKzKB3E=/docs/6upUAKzKB3ECAAAAAAAAAA==/',\n",
       " '_etag': '\"00000000-0000-0000-e40a-60ded74d01da\"',\n",
       " '_attachments': 'attachments/',\n",
       " '_ts': 1722513618}"
      ]
     },
     "execution_count": 5,
     "metadata": {},
     "output_type": "execute_result"
    }
   ],
   "source": [
    "true = True\n",
    "item1 = {\n",
    "    \"id\": \"2\",\n",
    "    \"Name\": \"Siva Mani K\",\n",
    "    \"Role\": \"Chief Technical Officer\",\n",
    "    \"Description\": \"Leads technology strategy, innovation, and development, ensuring robust and scalable tech solutions for business growth.\",\n",
    "    \"url\": {\n",
    "        \"twitter\": \"https://x.com/sivamani1307\",\n",
    "        \"github\": \"https://github.com/sivamani2003\",\n",
    "        \"instagram\": \"https://www.instagram.com/i_am__sivamani/\"\n",
    "    }\n",
    "}\n",
    "container.upsert_item(body=item1)"
   ]
  },
  {
   "cell_type": "code",
   "execution_count": 8,
   "id": "ca06b891",
   "metadata": {},
   "outputs": [
    {
     "name": "stderr",
     "output_type": "stream",
     "text": [
      "C:\\Users\\pavan\\AppData\\Local\\Programs\\Python\\Python310\\lib\\site-packages\\urllib3\\connectionpool.py:1045: InsecureRequestWarning: Unverified HTTPS request is being made to host '127.0.0.1'. Adding certificate verification is strongly advised. See: https://urllib3.readthedocs.io/en/1.26.x/advanced-usage.html#ssl-warnings\n",
      "  warnings.warn(\n"
     ]
    },
    {
     "data": {
      "text/plain": [
       "{'id': '3',\n",
       " 'Name': 'Harshini Mallipeddi',\n",
       " 'Role': 'Chief Management Officer',\n",
       " 'Description': 'Oversees company operations, ensures strategic goals, and drives business growth and organizational efficiency.',\n",
       " 'url': {'twitter': 'https://x.com/mharshini16',\n",
       "  'github': 'https://github.com/Harshinimallipeddi',\n",
       "  'instagram': 'https://www.instagram.com/m_n_harshu_16/'},\n",
       " '_rid': '6upUAKzKB3EEAAAAAAAAAA==',\n",
       " '_self': 'dbs/6upUAA==/colls/6upUAKzKB3E=/docs/6upUAKzKB3EEAAAAAAAAAA==/',\n",
       " '_etag': '\"00000000-0000-0000-e40c-c4f0771601da\"',\n",
       " '_attachments': 'attachments/',\n",
       " '_ts': 1722514645}"
      ]
     },
     "execution_count": 8,
     "metadata": {},
     "output_type": "execute_result"
    }
   ],
   "source": [
    "true = True\n",
    "item1 = {\n",
    "    \"id\": \"3\",\n",
    "    \"Name\": \"Harshini Mallipeddi\",\n",
    "    \"Role\": \"Chief Management Officer\",\n",
    "    \"Description\": \"Oversees company operations, ensures strategic goals, and drives business growth and organizational efficiency.\",\n",
    "    \"url\": {\n",
    "        \"twitter\": \"https://x.com/mharshini16\",\n",
    "        \"github\": \"https://github.com/Harshinimallipeddi\",\n",
    "        \"instagram\": \"https://www.instagram.com/m_n_harshu_16/\"\n",
    "    }\n",
    "}\n",
    "container.upsert_item(body=item1)"
   ]
  },
  {
   "cell_type": "code",
   "execution_count": 6,
   "id": "12a27fe9",
   "metadata": {},
   "outputs": [
    {
     "name": "stderr",
     "output_type": "stream",
     "text": [
      "C:\\Users\\pavan\\AppData\\Local\\Programs\\Python\\Python310\\lib\\site-packages\\urllib3\\connectionpool.py:1045: InsecureRequestWarning: Unverified HTTPS request is being made to host '127.0.0.1'. Adding certificate verification is strongly advised. See: https://urllib3.readthedocs.io/en/1.26.x/advanced-usage.html#ssl-warnings\n",
      "  warnings.warn(\n"
     ]
    },
    {
     "data": {
      "text/plain": [
       "{'id': '4',\n",
       " 'Name': 'Aetesh Ch',\n",
       " 'Role': 'Product Design Head',\n",
       " 'Description': 'The emphasis on innovation and technology in our companies has resulted in a few of them establishing global benchmarks in product design and development.',\n",
       " 'url': {'twitter': 'https://x.com/Aetesh1',\n",
       "  'github': 'https://github.com/chaetesh',\n",
       "  'instagram': 'https://www.instagram.com/aeteshch/'},\n",
       " '_rid': '6upUAKzKB3EDAAAAAAAAAA==',\n",
       " '_self': 'dbs/6upUAA==/colls/6upUAKzKB3E=/docs/6upUAKzKB3EDAAAAAAAAAA==/',\n",
       " '_etag': '\"00000000-0000-0000-e40a-8f70d1dd01da\"',\n",
       " '_attachments': 'attachments/',\n",
       " '_ts': 1722513696}"
      ]
     },
     "execution_count": 6,
     "metadata": {},
     "output_type": "execute_result"
    }
   ],
   "source": [
    "true = True\n",
    "item1 = {\n",
    "    \"id\": \"4\",\n",
    "    \"Name\": \"Aetesh Ch\",\n",
    "    \"Role\": \"Product Design Head\",\n",
    "    \"Description\": \"The emphasis on innovation and technology in our companies has resulted in a few of them establishing global benchmarks in product design and development.\",\n",
    "    \"url\": {\n",
    "        \"twitter\": \"https://x.com/Aetesh1\",\n",
    "        \"github\": \"https://github.com/chaetesh\",\n",
    "        \"instagram\": \"https://www.instagram.com/aeteshch/\"\n",
    "    }\n",
    "}\n",
    "container.upsert_item(body=item1)"
   ]
  },
  {
   "cell_type": "code",
   "execution_count": null,
   "id": "5fff115f",
   "metadata": {},
   "outputs": [],
   "source": []
  }
 ],
 "metadata": {
  "kernelspec": {
   "display_name": "Python 3 (ipykernel)",
   "language": "python",
   "name": "python3"
  },
  "language_info": {
   "codemirror_mode": {
    "name": "ipython",
    "version": 3
   },
   "file_extension": ".py",
   "mimetype": "text/x-python",
   "name": "python",
   "nbconvert_exporter": "python",
   "pygments_lexer": "ipython3",
   "version": "3.10.7"
  }
 },
 "nbformat": 4,
 "nbformat_minor": 5
}
